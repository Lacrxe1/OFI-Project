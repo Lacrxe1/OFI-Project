{
  "nbformat": 4,
  "nbformat_minor": 0,
  "metadata": {
    "colab": {
      "provenance": [],
      "authorship_tag": "ABX9TyMKBRTq/xwgk50vQ0hHEKMV",
      "include_colab_link": true
    },
    "kernelspec": {
      "name": "python3",
      "display_name": "Python 3"
    },
    "language_info": {
      "name": "python"
    }
  },
  "cells": [
    {
      "cell_type": "markdown",
      "metadata": {
        "id": "view-in-github",
        "colab_type": "text"
      },
      "source": [
        "<a href=\"https://colab.research.google.com/github/Lacrxe1/OFI-Project/blob/main/Quant_Assignment.ipynb\" target=\"_parent\"><img src=\"https://colab.research.google.com/assets/colab-badge.svg\" alt=\"Open In Colab\"/></a>"
      ]
    },
    {
      "cell_type": "code",
      "execution_count": null,
      "metadata": {
        "id": "gT7U17qYIufp"
      },
      "outputs": [],
      "source": [
        "# ==============================================================================\n",
        "#                      OFI QUANT ASSIGNMENT - ALL-IN-ONE SCRIPT\n",
        "# ==============================================================================\n",
        "\n",
        "# Load Data\n",
        "print(\"Step 1: Importing libraries and loading data...\")\n",
        "import pandas as pd\n",
        "import numpy as np\n",
        "\n",
        "try:\n",
        "    df = pd.read_csv('first_25000_rows.csv')\n",
        "    print(\"   -> Data loaded successfully.\")\n",
        "\n",
        "    # Clean\n",
        "    print(\"Step 2: Cleaning data types...\")\n",
        "    cols_to_convert = df.filter(regex=r'(bid|ask)_(px|sz)_\\d{2}').columns\n",
        "    df[cols_to_convert] = df[cols_to_convert].apply(pd.to_numeric, errors='coerce')\n",
        "    print(\"   -> Data types are now numeric.\")\n",
        "\n",
        "    # Calculate\n",
        "\n",
        "    def calculate_ofi_for_level(df_input, level_input):\n",
        "        df_local = df_input.copy()\n",
        "        level_str = f\"{level_input:02d}\"\n",
        "\n",
        "        # Define all column names needed for this level\n",
        "        bid_px_col, prev_bid_px_col = f'bid_px_{level_str}', f'prev_bid_px_{level_str}'\n",
        "        bid_sz_col, prev_bid_sz_col = f'bid_sz_{level_str}', f'prev_bid_sz_{level_str}'\n",
        "        ask_px_col, prev_ask_px_col = f'ask_px_{level_str}', f'prev_ask_px_{level_str}'\n",
        "        ask_sz_col, prev_ask_sz_col = f'ask_sz_{level_str}', f'prev_ask_sz_{level_str}'\n",
        "\n",
        "        # Create shifted columns\n",
        "        df_local[prev_bid_px_col] = df_local[bid_px_col].shift(1)\n",
        "        df_local[prev_bid_sz_col] = df_local[bid_sz_col].shift(1)\n",
        "        df_local[prev_ask_px_col] = df_local[ask_px_col].shift(1)\n",
        "        df_local[prev_ask_sz_col] = df_local[ask_sz_col].shift(1)\n",
        "\n",
        "        # Calculate bid delta\n",
        "        bid_conditions = [df_local[bid_px_col] > df_local[prev_bid_px_col], df_local[bid_px_col] == df_local[prev_bid_px_col]]\n",
        "        bid_outcomes = [df_local[bid_sz_col], df_local[bid_sz_col] - df_local[prev_bid_sz_col]]\n",
        "        delta_bid = np.select(bid_conditions, bid_outcomes, default=0)\n",
        "\n",
        "        # Calculate ask delta\n",
        "        ask_conditions = [df_local[ask_px_col] < df_local[prev_ask_px_col], df_local[ask_px_col] == df_local[prev_ask_px_col]]\n",
        "        ask_outcomes = [df_local[ask_sz_col], df_local[ask_sz_col] - df_local[prev_ask_sz_col]]\n",
        "        delta_ask = np.select(ask_conditions, ask_outcomes, default=0)\n",
        "\n",
        "        return delta_bid - delta_ask\n",
        "    print(\"   -> Function 'calculate_ofi_for_level' defined.\")\n",
        "\n",
        "    # CALCULATE ALL OFI FEATURES\n",
        "    print(\"Step 4: Calculating all OFI features...\")\n",
        "\n",
        "    # Calculate OFI for each of the 10 levels, Multi-Level\n",
        "    ofi_level_columns = []\n",
        "    for i in range(10):\n",
        "        ofi_col_name = f'ofi_level_{i:02d}'\n",
        "        df[ofi_col_name] = calculate_ofi_for_level(df, i)\n",
        "        ofi_level_columns.append(ofi_col_name)\n",
        "\n",
        "    # Assign Best-Level OFI for clarity\n",
        "    df['best_level_ofi'] = df['ofi_level_00']\n",
        "\n",
        "    # Calculate Multi-Level OFI by summing the individual levels\n",
        "    df['multi_level_ofi'] = df[ofi_level_columns].sum(axis=1)\n",
        "\n",
        "    # Calculate Integrated OFI using a rolling window\n",
        "    window_size = 10\n",
        "    df['integrated_ofi'] = df['multi_level_ofi'].rolling(window=window_size).sum()\n",
        "    print(\"   -> Best-Level, Multi-Level, and Integrated OFI calculated.\")\n",
        "\n",
        "    # Final results\n",
        "    print(\"Final overview of the first 20 rows:\")\n",
        "\n",
        "\n",
        "    display_cols = ['best_level_ofi', 'multi_level_ofi', 'integrated_ofi']\n",
        "    print(df[display_cols].head(20))\n",
        "\n",
        "except Exception as e:\n",
        "    print(\"\\n--- AN ERROR OCCURRED! ---\")\n",
        "    import traceback\n",
        "    traceback.print_exc()"
      ]
    },
    {
      "cell_type": "code",
      "source": [
        "# Cross Asset\n",
        "lag_steps = 5\n",
        "\n",
        "df['cross_asset_ofi_proxy'] = df['integrated_ofi'].shift(lag_steps)\n",
        "\n",
        "print(f\"Successfully created the 'cross_asset_ofi_proxy' by lagging the Integrated OFI by {lag_steps} steps.\")\n",
        "\n",
        "print(\"\\n--- ASSIGNMENT COMPLETE: FINAL FEATURE OVERVIEW ---\")\n",
        "\n",
        "final_features = ['best_level_ofi', 'multi_level_ofi', 'integrated_ofi', 'cross_asset_ofi_proxy']\n",
        "\n",
        "print(df[final_features].head(20))"
      ],
      "metadata": {
        "id": "Sz3uHO-pJtus"
      },
      "execution_count": null,
      "outputs": []
    }
  ]
}